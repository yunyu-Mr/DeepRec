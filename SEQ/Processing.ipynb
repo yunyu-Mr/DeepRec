{
 "cells": [
  {
   "cell_type": "code",
   "execution_count": 1,
   "metadata": {
    "collapsed": true
   },
   "outputs": [],
   "source": [
    "import pandas as pd\n",
    "import numpy as np\n",
    "import math"
   ]
  },
  {
   "cell_type": "code",
   "execution_count": 2,
   "metadata": {
    "collapsed": true
   },
   "outputs": [],
   "source": [
    "df = pd.read_csv('interactions.csv')\n",
    "\n",
    "df.columns = ['user', 'item']"
   ]
  },
  {
   "cell_type": "code",
   "execution_count": 11,
   "metadata": {},
   "outputs": [],
   "source": [
    "# Remove non-pop items.\n",
    "cnt = df.item.value_counts()\n",
    "rare_item = cnt[cnt < 100].index\n",
    "\n",
    "print(df.user.unique().size)\n",
    "df = df[~df.item.isin(rare_item)]\n",
    "print(df.user.unique().size)"
   ]
  },
  {
   "cell_type": "code",
   "execution_count": 4,
   "metadata": {
    "collapsed": true
   },
   "outputs": [],
   "source": [
    "# One-hot encoding, label from 1 to n\n",
    "from sklearn.preprocessing import LabelEncoder\n",
    "\n",
    "for col in df.columns:\n",
    "    le = LabelEncoder()\n",
    "    df[col] = le.fit_transform(df[col]) + 1  # Zero for padding, so remove it.\n",
    "del le"
   ]
  },
  {
   "cell_type": "code",
   "execution_count": 5,
   "metadata": {},
   "outputs": [
    {
     "data": {
      "text/html": [
       "<div>\n",
       "<style>\n",
       "    .dataframe thead tr:only-child th {\n",
       "        text-align: right;\n",
       "    }\n",
       "\n",
       "    .dataframe thead th {\n",
       "        text-align: left;\n",
       "    }\n",
       "\n",
       "    .dataframe tbody tr th {\n",
       "        vertical-align: top;\n",
       "    }\n",
       "</style>\n",
       "<table border=\"1\" class=\"dataframe\">\n",
       "  <thead>\n",
       "    <tr style=\"text-align: right;\">\n",
       "      <th></th>\n",
       "      <th>user</th>\n",
       "      <th>item</th>\n",
       "    </tr>\n",
       "  </thead>\n",
       "  <tbody>\n",
       "    <tr>\n",
       "      <th>0</th>\n",
       "      <td>1</td>\n",
       "      <td>2359</td>\n",
       "    </tr>\n",
       "    <tr>\n",
       "      <th>1</th>\n",
       "      <td>1</td>\n",
       "      <td>10671</td>\n",
       "    </tr>\n",
       "    <tr>\n",
       "      <th>2</th>\n",
       "      <td>1</td>\n",
       "      <td>19751</td>\n",
       "    </tr>\n",
       "  </tbody>\n",
       "</table>\n",
       "</div>"
      ],
      "text/plain": [
       "   user   item\n",
       "0     1   2359\n",
       "1     1  10671\n",
       "2     1  19751"
      ]
     },
     "execution_count": 5,
     "metadata": {},
     "output_type": "execute_result"
    }
   ],
   "source": [
    "df.head(3)"
   ]
  },
  {
   "cell_type": "code",
   "execution_count": 6,
   "metadata": {
    "collapsed": true
   },
   "outputs": [],
   "source": [
    "users = df.user.unique()\n",
    "items = df.item.unique()"
   ]
  },
  {
   "cell_type": "code",
   "execution_count": 43,
   "metadata": {},
   "outputs": [
    {
     "name": "stdout",
     "output_type": "stream",
     "text": [
      "4613258 50964\n"
     ]
    }
   ],
   "source": [
    "# Train test split\n",
    "NUM_TEST_USERS = 500\n",
    "\n",
    "np.random.seed(123)\n",
    "test_users = np.random.choice(users, size=NUM_TEST_USERS)  # Random select some users for test\n",
    "\n",
    "train = df[~df.user.isin(test_users)]\n",
    "train_items = train['item'].unique()  # All items in trainset\n",
    "\n",
    "test = df[df.user.isin(test_users)]\n",
    "test = test[test['item'].isin(train_items)]  # Remove items that not in trainset\n",
    "\n",
    "del df\n",
    "print(len(train), len(test))\n",
    "\n",
    "# Get top 80% interactions for each user.\n",
    "TOP_FRAC = 0.8\n",
    "def _get_top(x, frac=0.8):\n",
    "    n_top = math.ceil(len(x) * frac)\n",
    "    return x.head(n_top)\n",
    "test_first = test.groupby('user').apply(_get_top, frac=TOP_FRAC).reset_index(drop=True)\n",
    "\n",
    "def _get_tail(x, frac=0.2):\n",
    "    n_tail = math.floor(len(x)*frac)\n",
    "    return x.tail(n_tail)\n",
    "test_second = test.groupby('user').apply(_get_tail, frac=1-TOP_FRAC).reset_index(drop=True)\n",
    "\n",
    "# Extended trainset, including the first part of testset.\n",
    "train_plus = pd.concat([train, test_first])\n",
    "test = test_first"
   ]
  },
  {
   "cell_type": "code",
   "execution_count": 44,
   "metadata": {},
   "outputs": [
    {
     "data": {
      "text/html": [
       "<div>\n",
       "<style>\n",
       "    .dataframe thead tr:only-child th {\n",
       "        text-align: right;\n",
       "    }\n",
       "\n",
       "    .dataframe thead th {\n",
       "        text-align: left;\n",
       "    }\n",
       "\n",
       "    .dataframe tbody tr th {\n",
       "        vertical-align: top;\n",
       "    }\n",
       "</style>\n",
       "<table border=\"1\" class=\"dataframe\">\n",
       "  <thead>\n",
       "    <tr style=\"text-align: right;\">\n",
       "      <th></th>\n",
       "      <th>user</th>\n",
       "      <th>item_sequence</th>\n",
       "      <th>eval_sequence</th>\n",
       "    </tr>\n",
       "  </thead>\n",
       "  <tbody>\n",
       "    <tr>\n",
       "      <th>0</th>\n",
       "      <td>97</td>\n",
       "      <td>[2196, 445, 1, 328, 10283, 238, 1014, 4340, 51...</td>\n",
       "      <td>[15514, 16614, 16067, 17976, 1432, 1127, 9151,...</td>\n",
       "    </tr>\n",
       "    <tr>\n",
       "      <th>1</th>\n",
       "      <td>112</td>\n",
       "      <td>[291, 492, 1962, 1014, 2196, 1692, 328, 49, 54...</td>\n",
       "      <td>[879, 9872, 9605, 1086, 15959, 932, 1769, 1044...</td>\n",
       "    </tr>\n",
       "    <tr>\n",
       "      <th>2</th>\n",
       "      <td>127</td>\n",
       "      <td>[291, 737, 238, 1014, 1038, 1012, 545, 1030, 1...</td>\n",
       "      <td>[19051, 7043, 8466, 2251]</td>\n",
       "    </tr>\n",
       "    <tr>\n",
       "      <th>3</th>\n",
       "      <td>192</td>\n",
       "      <td>[2196, 1085, 328, 1, 545, 291, 1016, 1106, 434...</td>\n",
       "      <td>[1692, 11117, 10652]</td>\n",
       "    </tr>\n",
       "    <tr>\n",
       "      <th>4</th>\n",
       "      <td>195</td>\n",
       "      <td>[737, 492, 1038, 1012, 291, 5241, 779, 2196, 1...</td>\n",
       "      <td>[791, 681, 558, 1017, 103]</td>\n",
       "    </tr>\n",
       "  </tbody>\n",
       "</table>\n",
       "</div>"
      ],
      "text/plain": [
       "   user                                      item_sequence  \\\n",
       "0    97  [2196, 445, 1, 328, 10283, 238, 1014, 4340, 51...   \n",
       "1   112  [291, 492, 1962, 1014, 2196, 1692, 328, 49, 54...   \n",
       "2   127  [291, 737, 238, 1014, 1038, 1012, 545, 1030, 1...   \n",
       "3   192  [2196, 1085, 328, 1, 545, 291, 1016, 1106, 434...   \n",
       "4   195  [737, 492, 1038, 1012, 291, 5241, 779, 2196, 1...   \n",
       "\n",
       "                                       eval_sequence  \n",
       "0  [15514, 16614, 16067, 17976, 1432, 1127, 9151,...  \n",
       "1  [879, 9872, 9605, 1086, 15959, 932, 1769, 1044...  \n",
       "2                          [19051, 7043, 8466, 2251]  \n",
       "3                               [1692, 11117, 10652]  \n",
       "4                         [791, 681, 558, 1017, 103]  "
      ]
     },
     "execution_count": 44,
     "metadata": {},
     "output_type": "execute_result"
    }
   ],
   "source": [
    "def gen_sequences(df):\n",
    "    sequences = df.groupby('user').agg({'item': lambda x:list(x)})\n",
    "    sequences.columns = ['item_sequence']\n",
    "    return sequences.reset_index()\n",
    "\n",
    "# Gen sequences for train and test\n",
    "train = gen_sequences(train)\n",
    "test  = gen_sequences(test)\n",
    "\n",
    "# Remaining part for evaluation.\n",
    "test_second = gen_sequences(test_second)\n",
    "test['eval_sequence'] = test_second['item_sequence']\n",
    "del test_second\n",
    "\n",
    "test.head()"
   ]
  },
  {
   "cell_type": "code",
   "execution_count": null,
   "metadata": {
    "collapsed": true
   },
   "outputs": [],
   "source": []
  }
 ],
 "metadata": {
  "kernelspec": {
   "display_name": "Python 3",
   "language": "python",
   "name": "python3"
  },
  "language_info": {
   "codemirror_mode": {
    "name": "ipython",
    "version": 3
   },
   "file_extension": ".py",
   "mimetype": "text/x-python",
   "name": "python",
   "nbconvert_exporter": "python",
   "pygments_lexer": "ipython3",
   "version": "3.6.3"
  }
 },
 "nbformat": 4,
 "nbformat_minor": 2
}
