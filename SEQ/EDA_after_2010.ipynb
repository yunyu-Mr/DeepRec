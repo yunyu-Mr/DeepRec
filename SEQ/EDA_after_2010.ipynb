{
 "cells": [
  {
   "cell_type": "code",
   "execution_count": 1,
   "metadata": {
    "collapsed": true
   },
   "outputs": [],
   "source": [
    "import pandas as pd\n",
    "import numpy as np\n",
    "\n",
    "import seaborn as sns\n",
    "sns.set(font_scale=1.3)\n",
    "import matplotlib.pyplot as plt\n",
    "%matplotlib inline"
   ]
  },
  {
   "cell_type": "code",
   "execution_count": 2,
   "metadata": {
    "collapsed": true
   },
   "outputs": [],
   "source": [
    "def data_counts(df):\n",
    "    print(\"#Users:  \", df.userId.unique().size)\n",
    "    print(\"#Items:  \", df.movieId.unique().size)\n",
    "    print(\"#Records:\", len(df))"
   ]
  },
  {
   "cell_type": "markdown",
   "metadata": {},
   "source": [
    "# Load data"
   ]
  },
  {
   "cell_type": "code",
   "execution_count": 3,
   "metadata": {
    "collapsed": true
   },
   "outputs": [],
   "source": [
    "start = pd.to_datetime('2010-01-01')\n",
    "end   = pd.to_datetime('2017-01-01')"
   ]
  },
  {
   "cell_type": "code",
   "execution_count": 5,
   "metadata": {},
   "outputs": [
    {
     "data": {
      "text/html": [
       "<div>\n",
       "<style>\n",
       "    .dataframe thead tr:only-child th {\n",
       "        text-align: right;\n",
       "    }\n",
       "\n",
       "    .dataframe thead th {\n",
       "        text-align: left;\n",
       "    }\n",
       "\n",
       "    .dataframe tbody tr th {\n",
       "        vertical-align: top;\n",
       "    }\n",
       "</style>\n",
       "<table border=\"1\" class=\"dataframe\">\n",
       "  <thead>\n",
       "    <tr style=\"text-align: right;\">\n",
       "      <th></th>\n",
       "      <th>userId</th>\n",
       "      <th>movieId</th>\n",
       "      <th>rating</th>\n",
       "      <th>date</th>\n",
       "    </tr>\n",
       "  </thead>\n",
       "  <tbody>\n",
       "    <tr>\n",
       "      <th>6</th>\n",
       "      <td>1</td>\n",
       "      <td>2762</td>\n",
       "      <td>4.5</td>\n",
       "      <td>2015-03-09 22:48:20</td>\n",
       "    </tr>\n",
       "    <tr>\n",
       "      <th>13</th>\n",
       "      <td>1</td>\n",
       "      <td>54503</td>\n",
       "      <td>3.5</td>\n",
       "      <td>2015-03-09 22:48:33</td>\n",
       "    </tr>\n",
       "    <tr>\n",
       "      <th>26</th>\n",
       "      <td>1</td>\n",
       "      <td>112552</td>\n",
       "      <td>5.0</td>\n",
       "      <td>2015-03-09 22:48:56</td>\n",
       "    </tr>\n",
       "    <tr>\n",
       "      <th>23</th>\n",
       "      <td>1</td>\n",
       "      <td>96821</td>\n",
       "      <td>5.0</td>\n",
       "      <td>2015-03-09 22:49:42</td>\n",
       "    </tr>\n",
       "    <tr>\n",
       "      <th>11</th>\n",
       "      <td>1</td>\n",
       "      <td>5577</td>\n",
       "      <td>5.0</td>\n",
       "      <td>2015-03-09 22:49:57</td>\n",
       "    </tr>\n",
       "  </tbody>\n",
       "</table>\n",
       "</div>"
      ],
      "text/plain": [
       "    userId  movieId  rating                date\n",
       "6        1     2762     4.5 2015-03-09 22:48:20\n",
       "13       1    54503     3.5 2015-03-09 22:48:33\n",
       "26       1   112552     5.0 2015-03-09 22:48:56\n",
       "23       1    96821     5.0 2015-03-09 22:49:42\n",
       "11       1     5577     5.0 2015-03-09 22:49:57"
      ]
     },
     "execution_count": 5,
     "metadata": {},
     "output_type": "execute_result"
    }
   ],
   "source": [
    "df = pd.read_csv('../data/movielens/ratings.csv')\n",
    "df['date'] = pd.to_datetime(df.timestamp, unit='s')\n",
    "df.drop('timestamp', axis=1, inplace=True)\n",
    "df = df.loc[(df.date >= start) & (df.date < end)]\n",
    "df.sort_values(['userId', 'date'], inplace=True)\n",
    "df.head()"
   ]
  },
  {
   "cell_type": "code",
   "execution_count": 6,
   "metadata": {},
   "outputs": [
    {
     "name": "stdout",
     "output_type": "stream",
     "text": [
      "<class 'pandas.core.frame.DataFrame'>\n",
      "Int64Index: 7841546 entries, 6 to 26023915\n",
      "Data columns (total 4 columns):\n",
      "userId     int64\n",
      "movieId    int64\n",
      "rating     float64\n",
      "date       datetime64[ns]\n",
      "dtypes: datetime64[ns](1), float64(1), int64(2)\n",
      "memory usage: 299.1 MB\n"
     ]
    }
   ],
   "source": [
    "df.info()"
   ]
  },
  {
   "cell_type": "markdown",
   "metadata": {},
   "source": [
    "Count"
   ]
  },
  {
   "cell_type": "code",
   "execution_count": 7,
   "metadata": {},
   "outputs": [
    {
     "name": "stdout",
     "output_type": "stream",
     "text": [
      "#Users:   88993\n",
      "#Items:   40431\n",
      "#Records: 7841546\n"
     ]
    }
   ],
   "source": [
    "data_counts(df)"
   ]
  },
  {
   "cell_type": "code",
   "execution_count": null,
   "metadata": {
    "collapsed": true
   },
   "outputs": [],
   "source": []
  },
  {
   "cell_type": "code",
   "execution_count": 8,
   "metadata": {},
   "outputs": [
    {
     "data": {
      "text/plain": [
       "[Text(0,0.5,'#Users'), Text(0.5,0,'User ratings count')]"
      ]
     },
     "execution_count": 8,
     "metadata": {},
     "output_type": "execute_result"
    },
    {
     "data": {
      "image/png": "[encoded data removed]",
      "text/plain": [
       "<matplotlib.figure.Figure at 0x7f0134a13780>"
      ]
     },
     "metadata": {},
     "output_type": "display_data"
    }
   ],
   "source": [
    "cnt = df.groupby('userId')['date'].count()\n",
    "cnt_cut = cnt[cnt < 200]\n",
    "\n",
    "fig, ax = plt.subplots(figsize=(16,4))\n",
    "\n",
    "sns.distplot(cnt_cut.sort_values(), kde=False, bins=50, ax=ax)\n",
    "del cnt_cut\n",
    "\n",
    "ax.set(xlabel='User ratings count',\n",
    "       ylabel='#Users')"
   ]
  },
  {
   "cell_type": "code",
   "execution_count": 10,
   "metadata": {},
   "outputs": [
    {
     "data": {
      "text/plain": [
       "([<matplotlib.patches.Wedge at 0x7f012d3f0b00>,\n",
       "  <matplotlib.patches.Wedge at 0x7f012d3f9278>,\n",
       "  <matplotlib.patches.Wedge at 0x7f012d3f9a20>,\n",
       "  <matplotlib.patches.Wedge at 0x7f012d401208>,\n",
       "  <matplotlib.patches.Wedge at 0x7f012d4019b0>],\n",
       " [Text(0.276138,1.1678,'< 20'),\n",
       "  Text(-0.605508,-0.918346,'20 ~ 200'),\n",
       "  Text(0.971668,-0.515618,'200 ~ 400'),\n",
       "  Text(1.08309,-0.19212,'400 ~ 800'),\n",
       "  Text(1.19912,-0.0460783,'> 800')],\n",
       " [Text(0.161081,0.681214,'43%'),\n",
       "  Text(-0.330277,-0.500916,'46%'),\n",
       "  Text(0.530001,-0.281246,'7%'),\n",
       "  Text(0.590778,-0.104793,'3%'),\n",
       "  Text(0.699484,-0.026879,'1%')])"
      ]
     },
     "execution_count": 10,
     "metadata": {},
     "output_type": "execute_result"
    },
    {
     "data": {
      "image/png": "[encoded data removed]",
      "text/plain": [
       "<matplotlib.figure.Figure at 0x7f0134a04710>"
      ]
     },
     "metadata": {},
     "output_type": "display_data"
    }
   ],
   "source": [
    "# User rating percentage\n",
    "a = len(cnt[cnt < 20])\n",
    "b = len(cnt[cnt < 200])\n",
    "c = len(cnt[cnt < 400])\n",
    "d = len(cnt[cnt < 800])\n",
    "e = len(cnt)\n",
    "\n",
    "fracs = a, b-a, c-b, d-c, e-d\n",
    "labels = ['< 20', '20 ~ 200', '200 ~ 400', '400 ~ 800', '> 800']\n",
    "explode = [0.1, 0, 0, 0, 0.1]\n",
    "plt.subplot(aspect=1)\n",
    "plt.pie(x=fracs, labels=labels, explode=explode,\n",
    "        autopct='%.0f%%')"
   ]
  },
  {
   "cell_type": "markdown",
   "metadata": {},
   "source": [
    "# Extract data"
   ]
  },
  {
   "cell_type": "code",
   "execution_count": 11,
   "metadata": {
    "collapsed": true
   },
   "outputs": [],
   "source": [
    "selected_users = cnt[(cnt>=20) & (cnt<=800)].index\n",
    "df_cut = df.loc[df.userId.isin(selected_users)]\n",
    "df_cut = df_cut.sort_values(['userId', 'date'])"
   ]
  },
  {
   "cell_type": "code",
   "execution_count": 15,
   "metadata": {},
   "outputs": [
    {
     "name": "stdout",
     "output_type": "stream",
     "text": [
      "#Users:   44176\n",
      "#Items:   34938\n",
      "#Records: 4664303\n"
     ]
    }
   ],
   "source": [
    "data_counts(df_cut)"
   ]
  },
  {
   "cell_type": "code",
   "execution_count": 16,
   "metadata": {
    "collapsed": true
   },
   "outputs": [],
   "source": [
    "df_cut.to_csv(\"interactions.csv\", columns=['userId', 'movieId'], index=False)"
   ]
  },
  {
   "cell_type": "code",
   "execution_count": null,
   "metadata": {
    "collapsed": true
   },
   "outputs": [],
   "source": []
  }
 ],
 "metadata": {
  "kernelspec": {
   "display_name": "Python 3",
   "language": "python",
   "name": "python3"
  },
  "language_info": {
   "codemirror_mode": {
    "name": "ipython",
    "version": 3
   },
   "file_extension": ".py",
   "mimetype": "text/x-python",
   "name": "python",
   "nbconvert_exporter": "python",
   "pygments_lexer": "ipython3",
   "version": "3.6.3"
  }
 },
 "nbformat": 4,
 "nbformat_minor": 2
}
